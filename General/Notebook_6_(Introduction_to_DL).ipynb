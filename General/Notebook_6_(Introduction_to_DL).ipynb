{
 "cells": [
  {
   "cell_type": "code",
   "execution_count": 1,
   "id": "21c4962e-3a9d-4f9f-94cb-240c5da4235b",
   "metadata": {},
   "outputs": [],
   "source": [
    "import numpy as np\n",
    "import matplotlib.pyplot as plt"
   ]
  },
  {
   "cell_type": "markdown",
   "id": "e80cdc4d-8a8a-4821-9ab2-09f335307b5c",
   "metadata": {},
   "source": [
    "# Deep Learning Notebook 1: Introduction\n",
    "\n",
    "This notebook serves to show how to implement a simple neural network model from scratch, and how to train and evaluate it. Only numpy is used.\n",
    "\n",
    "\n",
    "## The dataset (MNIST)\n",
    "In this step, we load and visualize the dataset. We also have to preprocess it a bit.\n",
    "\n",
    "### Loading the data\n",
    "First, we load the data from the provided .csv-files. The csv-files consist of one row per datapoint, the first entry being the target class (digit) and the 784 (which equals 28x28). The other entries are row-wise linearized grayscale pixels of the respective image with values between 0 and 255."
   ]
  },
  {
   "cell_type": "code",
   "execution_count": 2,
   "id": "2d428922-2da2-4265-a06f-296aedacb2a2",
   "metadata": {},
   "outputs": [],
   "source": [
    "import csv\n",
    "\n",
    "def read_csv(filepath, delimiter=\",\"):\n",
    "    \"\"\"Read csv file from filepath.\n",
    "    \n",
    "    Keyword arguments:\n",
    "        filepath(str) -- filepath of the csv file.\n",
    "    Returns:\n",
    "        (train_data(float), train_label(int)) -- tuple of train_data and train_label.\n",
    "    \"\"\"\n",
    "    with open(filepath, newline=\"\\n\") as csvfile:\n",
    "        csvfile = csv.reader(csvfile, delimiter=delimiter)\n",
    "        data = np.array([r for r in csvfile])\n",
    "        train_data = data[:, 1:].astype(\"float\")\n",
    "        train_label = data[:, 0].astype(\"int\")\n",
    "    return train_data, train_label\n",
    "    \n",
    "\n",
    "# Train data:\n",
    "data_train_x, data_train_y = read_csv(\"sample_data/mnist_train_small.csv\")\n",
    "\n",
    "# Test data:\n",
    "data_test_x, data_test_y = read_csv(\"sample_data/mnist_test.csv\")"
   ]
  },
  {
   "cell_type": "markdown",
   "id": "05b386c3-2b5b-4664-8f25-f5cd112e7ea2",
   "metadata": {},
   "source": [
    "### Inspecting the data\n",
    "\n",
    "Now, we can inspect our data and check it shapes"
   ]
  },
  {
   "cell_type": "code",
   "execution_count": 3,
   "id": "e216d248-ea77-4075-bf6d-67a224948555",
   "metadata": {},
   "outputs": [
    {
     "name": "stdout",
     "output_type": "stream",
     "text": [
      "data_train_x.shape: (20000, 784)\n",
      "data_train_y.shape: (20000,)\n",
      "data_test_x.shape: (10000, 784)\n",
      "data_test_y.shape: (10000,)\n",
      "Label: 7\n"
     ]
    },
    {
     "data": {
      "text/plain": [
       "<matplotlib.image.AxesImage at 0x11f5086d0>"
      ]
     },
     "execution_count": 3,
     "metadata": {},
     "output_type": "execute_result"
    },
    {
     "data": {
      "image/png": "[encoded data removed]",
      "text/plain": [
       "<Figure size 432x288 with 1 Axes>"
      ]
     },
     "metadata": {
      "needs_background": "light"
     },
     "output_type": "display_data"
    }
   ],
   "source": [
    "# Shape of the datasets:\n",
    "print(f\"data_train_x.shape: {data_train_x.shape}\")\n",
    "print(f\"data_train_y.shape: {data_train_y.shape}\")\n",
    "print(f\"data_test_x.shape: {data_test_x.shape}\")\n",
    "print(f\"data_test_y.shape: {data_test_y.shape}\")\n",
    "\n",
    "# Picturing the first entry of the test dataset:\n",
    "x0 = data_test_x[0]\n",
    "y0 = data_test_y[0]\n",
    "print(f\"Label: {y0}\")\n",
    "\n",
    "x0_reshaped = x0.reshape((28, 28))\n",
    "plt.imshow(x0_reshaped, cmap=\"gray\")"
   ]
  },
  {
   "cell_type": "markdown",
   "id": "60bf4f7a-bc80-4959-b6c4-3ed59a744a89",
   "metadata": {},
   "source": [
    "### Preprocessing the data\n",
    "For preprocesssing, we divide each grayscale value by 255 and standardize the dataseet. Also, we transform the target labels into one-hot encodings."
   ]
  },
  {
   "cell_type": "code",
   "execution_count": 4,
   "id": "1ee03082-42b4-4363-a96b-6a5d6b8c7dfe",
   "metadata": {},
   "outputs": [],
   "source": [
    "data_train_x /= 255\n",
    "data_test_x /= 255\n",
    "\n",
    "data_x = np.concatenate((data_train_x, data_test_x))\n",
    "mean = np.mean(data_x)\n",
    "std = np.std(data_x)\n",
    "\n",
    "# Standardization:\n",
    "data_train_x = (data_train_x - mean) / std\n",
    "data_test_x = (data_test_x - mean) / std\n",
    "\n",
    "# One-hot encode labels:\n",
    "label_size = 10\n",
    "data_train_y_one_hot = np.eye(label_size)[data_train_y]\n",
    "data_test_y_one_hot = np.eye(label_size)[data_test_y]"
   ]
  },
  {
   "cell_type": "code",
   "execution_count": 5,
   "id": "a1eca8f5-3d0c-4992-a431-065185b776e9",
   "metadata": {},
   "outputs": [
    {
     "data": {
      "text/plain": [
       "(7, array([0., 0., 0., 0., 0., 0., 0., 1., 0., 0.]))"
      ]
     },
     "execution_count": 5,
     "metadata": {},
     "output_type": "execute_result"
    }
   ],
   "source": [
    "data_test_y[0], data_test_y_one_hot[0]"
   ]
  },
  {
   "cell_type": "markdown",
   "id": "2622145f-1338-41bd-9384-bad148ce05ea",
   "metadata": {},
   "source": [
    "## The model: a simple Multi-layer perceptron (MLP)\n",
    "\n",
    "![mlp_model_sketch.png](mlp_model_sketch.png)\n",
    "\n",
    "<br>\n",
    "\n",
    "### The easiest parts first!\n",
    "To start off, let's implement sigmoid and softmax."
   ]
  },
  {
   "cell_type": "code",
   "execution_count": 6,
   "id": "f3c0da9b-fdfe-4dd0-9d11-a7c448a08b39",
   "metadata": {},
   "outputs": [],
   "source": [
    "def sigmoid(z):\n",
    "    return 1 / (1 + np.exp(-z))\n",
    "\n",
    "def softmax(z):\n",
    "    exps = np.exp(z - z.max())\n",
    "    return exps / (np.sum(exps, axis=0))"
   ]
  },
  {
   "cell_type": "code",
   "execution_count": 7,
   "id": "e56b7547-5e6c-4fe0-9d19-29d58f706ff3",
   "metadata": {},
   "outputs": [
    {
     "data": {
      "image/png": "[encoded data removed]",
      "text/plain": [
       "<Figure size 432x288 with 1 Axes>"
      ]
     },
     "metadata": {
      "needs_background": "light"
     },
     "output_type": "display_data"
    }
   ],
   "source": [
    "z = np.linspace(-6, 6, 100)\n",
    "plt.plot(z, sigmoid(z), label=r\"$\\sigma(t) = \\frac{1}{1 + e^{-t}}$\")\n",
    "plt.axvline(x=0, color=\"gray\", linestyle=\"--\")\n",
    "plt.axhline(y=0.5, color=\"gray\", linestyle=\"--\")\n",
    "plt.legend(fontsize=14);"
   ]
  },
  {
   "cell_type": "code",
   "execution_count": 8,
   "id": "544b16f9-839c-4b2c-ad05-826cd4b7aed2",
   "metadata": {},
   "outputs": [
    {
     "data": {
      "image/png": "[encoded data removed]",
      "text/plain": [
       "<Figure size 432x288 with 1 Axes>"
      ]
     },
     "metadata": {
      "needs_background": "light"
     },
     "output_type": "display_data"
    }
   ],
   "source": [
    "z = np.linspace(-6, 6, 100)\n",
    "plt.plot(z, softmax(z));"
   ]
  },
  {
   "cell_type": "markdown",
   "id": "7f57aba2-670a-4f76-a2fb-85f1f98490bb",
   "metadata": {},
   "source": [
    "## Training a Feed-forward Network\n",
    "\n",
    "### Begining the model class\n",
    "Now we should begin writing the model class. We will do this step by step and add functions as we go, with explanations in-between."
   ]
  },
  {
   "cell_type": "code",
   "execution_count": 9,
   "id": "78eff316-4201-4520-b0d0-43a51aaa25c1",
   "metadata": {},
   "outputs": [],
   "source": [
    "class FFN():\n",
    "    \"\"\"A feed-forward network model class.\"\"\"\n",
    "    \n",
    "    def __init__(self, sizes=[784, 128, 64, 10], epochs=10, lr=0.01):\n",
    "        self.sizes = sizes\n",
    "        self.epochs = epochs\n",
    "        self.lr = lr\n",
    "        \n",
    "        # Initialize model parameters:\n",
    "        self.params = self.initialize_parameters()"
   ]
  },
  {
   "cell_type": "markdown",
   "id": "9da81c2d-a7af-4beb-af20-64ff8a55f45c",
   "metadata": {},
   "source": [
    "### Setting up the network: Initialization\n",
    "We must guarantee that the initial parameters (the weights) have some variation in them to facilitate learning. For more details, see [this blog post](https://towardsdatascience.com/neural-network-breaking-the-symmetry-e04f963395dd). It also explains the specific form of initialization we are using called Xavier initialization."
   ]
  },
  {
   "cell_type": "code",
   "execution_count": 10,
   "id": "b3fa6c6e-ec11-4942-aa1c-f9da825303d4",
   "metadata": {},
   "outputs": [],
   "source": [
    "def initialize_parameters(self):\n",
    "        input_layer = self.sizes[0]\n",
    "        hidden_layer_1 = self.sizes[1]\n",
    "        hidden_layer_2 = self.sizes[2]\n",
    "        output_layer = self.sizes[3]\n",
    "        \n",
    "        # Xavier initialization\n",
    "        params = {\n",
    "            \"W1\": np.random.randn(hidden_layer_1, input_layer) * np.sqrt(1. / hidden_layer_1),\n",
    "            \"W2\": np.random.randn(hidden_layer_2, hidden_layer_1) * np.sqrt(1. / hidden_layer_2),\n",
    "            \"W3\": np.random.randn(output_layer, hidden_layer_2) * np.sqrt(1. / output_layer),\n",
    "        }\n",
    "        print(f\"Initialized! Total parameters: {np.prod(params['W1'].shape)+np.prod(params['W2'].shape)+np.prod(params['W3'].shape)}\")\n",
    "        return params\n",
    "\n",
    "FFN.initialize_parameters = initialize_parameters"
   ]
  },
  {
   "cell_type": "markdown",
   "id": "2100e103-bcb6-427f-b5fc-4f9575465d59",
   "metadata": {},
   "source": [
    "### Inplementing the forward pass\n",
    "Now, we have everything we need to implement a forward pass.\n",
    "\n",
    "![mlp_model_sketch.png](mlp_model_sketch.png)"
   ]
  },
  {
   "cell_type": "code",
   "execution_count": 11,
   "id": "107557d1-72dd-469c-aaa4-4923ff2e7f94",
   "metadata": {},
   "outputs": [],
   "source": [
    "def forward(self, x_train):\n",
    "    params = self.params\n",
    "    \n",
    "    # The first activations should just be the input sample:\n",
    "    params[\"A0\"] = x_train # x_train is of shape (784, )\n",
    "    \n",
    "    # Input layer to hidden layer 1:\n",
    "    params[\"z1\"] = np.dot(params[\"W1\"], params[\"A0\"])\n",
    "    params[\"A1\"] = sigmoid(params[\"z1\"])\n",
    "    \n",
    "    # Hidden layer 1 to hidden layer 2:\n",
    "    params[\"z2\"] = np.dot(params[\"W2\"], params[\"A1\"])\n",
    "    params[\"A2\"] = sigmoid(params[\"z2\"])\n",
    "    \n",
    "     # Hidden layer 2 to output layer:\n",
    "    params[\"z3\"] = np.dot(params[\"W3\"], params[\"A2\"])\n",
    "    params[\"A3\"] = softmax(params[\"z3\"])\n",
    "    \n",
    "    return params[\"A3\"]\n",
    "\n",
    "FFN.forward = forward"
   ]
  },
  {
   "cell_type": "markdown",
   "id": "6cc792dc-d489-43e4-b326-d3db0db7f72d",
   "metadata": {},
   "source": [
    "### Evaluating the model:\n",
    "We can now also write some code to evaluate the accuracy of our model on some data."
   ]
  },
  {
   "cell_type": "code",
   "execution_count": 12,
   "id": "d900bb6f-629e-4d00-b2fe-788f6b6e94be",
   "metadata": {},
   "outputs": [],
   "source": [
    "def accuracy(self, data_x, data_y):\n",
    "    predictions = []\n",
    "    \n",
    "    for x, y in zip(data_x, data_y):\n",
    "        output = self.forward(x)\n",
    "        pred = np.argmax(output)\n",
    "        predictions.append(pred == y)\n",
    "    return np.mean(predictions)\n",
    "\n",
    "FFN.accuracy = accuracy"
   ]
  },
  {
   "cell_type": "markdown",
   "id": "cebebdb9-55ce-4309-ad21-a24f984be7b0",
   "metadata": {},
   "source": [
    "### Sanity check: performance of a random network\n",
    "To test the code that we have so far, we can initialize our model with random weights, and compute the accuracy on the MNIST training dataset. Since we haven't trained it, we expect an accuracy of somewhere around 10% since there are 10 classes in our dataset. The concrete value depends on the initialization, which is random."
   ]
  },
  {
   "cell_type": "code",
   "execution_count": 13,
   "id": "76943559-961d-4ed6-9cf4-ac77385859c0",
   "metadata": {},
   "outputs": [
    {
     "name": "stdout",
     "output_type": "stream",
     "text": [
      "Initialized! Total parameters: 109184\n",
      "Accuracy = 9.805000%\n"
     ]
    }
   ],
   "source": [
    "model = FFN()\n",
    "accuracy = model.accuracy(data_train_x, data_train_y)\n",
    "print(f\"Accuracy = {accuracy*100:02f}%\")"
   ]
  },
  {
   "cell_type": "markdown",
   "id": "b223909f-3d5e-4602-9900-db2a0e9edeab",
   "metadata": {},
   "source": [
    "### Backpropagation\n",
    "Next, we should implement the function that allows us to compute the gradients of the loss w.r.t the weights. Before that, we have to derive and implement the derivative of sigmoid and softmax!"
   ]
  },
  {
   "cell_type": "code",
   "execution_count": 14,
   "id": "078fa9e2-fc39-470d-8088-972954b98c23",
   "metadata": {},
   "outputs": [],
   "source": [
    "def sigmoid_derivative(x):\n",
    "    return (np.exp(-x)) / ((np.exp(-x) + 1) ** 2)\n",
    "\n",
    "def softmax_derivative(x):\n",
    "    exps = np.exp(x - x.max())\n",
    "    return exps / np.sum(exps, axis=0) * (1 - exps / np.sum(exps, axis=0))\n"
   ]
  },
  {
   "cell_type": "code",
   "execution_count": 15,
   "id": "91576bfa-2da3-4afd-8be0-87f57028914d",
   "metadata": {},
   "outputs": [],
   "source": [
    "def backward(self, data_y, predictions):\n",
    "    params = self.params\n",
    "    change_w = {}\n",
    "    \n",
    "    # Calculate W3 update:\n",
    "    error = 2 * (predictions - data_y) * softmax_derivative(params[\"z3\"])\n",
    "    change_w[\"W3\"] = np.outer(error, params[\"A2\"])\n",
    "    \n",
    "    # Calculate W2 update:\n",
    "    error = np.dot(params[\"W3\"].T, error) * sigmoid_derivative(params[\"z2\"])\n",
    "    change_w[\"W2\"] = np.outer(error, params[\"A1\"])\n",
    "    \n",
    "    # Calculate W1 update:\n",
    "    error = np.dot(params[\"W2\"].T, error) * sigmoid_derivative(params[\"z1\"])\n",
    "    change_w[\"W1\"] = np.outer(error, params[\"A0\"])\n",
    "    \n",
    "    return change_w\n",
    "\n",
    "FFN.backward = backward"
   ]
  },
  {
   "cell_type": "code",
   "execution_count": 16,
   "id": "ce1c6bc8-7d1e-4a81-9bda-456deb61abb5",
   "metadata": {},
   "outputs": [],
   "source": [
    "def update_network_parameters(self, changes_to_w):\n",
    "    for key, value in changes_to_w.items():\n",
    "        self.params[key] -= self.lr * value\n",
    "FFN.update_network_parameters = update_network_parameters"
   ]
  },
  {
   "cell_type": "markdown",
   "id": "3d989ae4-4f9f-409a-a0db-338acf4292bf",
   "metadata": {},
   "source": [
    "### Training loop\n",
    "finally, we can tie everything together by writing a training loop:"
   ]
  },
  {
   "cell_type": "code",
   "execution_count": 17,
   "id": "5fe93be6-8f20-4a2d-b8ca-0ef3c2cd20fd",
   "metadata": {},
   "outputs": [],
   "source": [
    "def train(self, data_x, data_y):\n",
    "    for epoch in range(self.epochs):\n",
    "        accuracy = self.accuracy(data_x, np.argmax(data_y, axis=1))\n",
    "        print(f\"Epoch: {epoch:d}, Train accuracy = {accuracy*100:.2f}\")\n",
    "        \n",
    "        for x, y in zip(data_x, data_y):\n",
    "            output = self.forward(x)\n",
    "            changes_to_w = self.backward(y, output)\n",
    "            self.update_network_parameters(changes_to_w)\n",
    "\n",
    "FFN.train = train"
   ]
  },
  {
   "cell_type": "markdown",
   "id": "d469d3a3-e827-4e58-aff5-4cd7576902b4",
   "metadata": {},
   "source": [
    "### Executing the training:\n",
    "Let's create a model object and train it for a bit, then evaluate its accuracy on the test set."
   ]
  },
  {
   "cell_type": "code",
   "execution_count": 18,
   "id": "494799c2-4807-423d-a024-4e19926784ed",
   "metadata": {},
   "outputs": [
    {
     "name": "stdout",
     "output_type": "stream",
     "text": [
      "Initialized! Total parameters: 109184\n",
      "Epoch: 0, Train accuracy = 11.91\n",
      "Epoch: 1, Train accuracy = 82.71\n",
      "Epoch: 2, Train accuracy = 91.09\n",
      "Epoch: 3, Train accuracy = 92.80\n",
      "Epoch: 4, Train accuracy = 93.88\n",
      "Epoch: 5, Train accuracy = 94.53\n",
      "Epoch: 6, Train accuracy = 95.03\n",
      "Epoch: 7, Train accuracy = 95.44\n",
      "Epoch: 8, Train accuracy = 95.78\n",
      "Epoch: 9, Train accuracy = 96.09\n",
      "\n",
      "Test accuracy = 93.88%\n"
     ]
    }
   ],
   "source": [
    "model = FFN(epochs=10, lr=0.01)\n",
    "model.train(data_train_x, data_train_y_one_hot)\n",
    "\n",
    "print()\n",
    "accuracy = model.accuracy(data_test_x, data_test_y)\n",
    "print(f\"Test accuracy = {accuracy*100:.2f}%\")"
   ]
  },
  {
   "cell_type": "markdown",
   "id": "d8a53cf0-3bb5-4153-aef5-53398d1bf323",
   "metadata": {},
   "source": [
    "## Doing the same in PyTorch"
   ]
  },
  {
   "cell_type": "code",
   "execution_count": 19,
   "id": "2fec7a63-47c6-4b10-82b4-cd4d1dac5387",
   "metadata": {},
   "outputs": [],
   "source": [
    "# !conda install --y -c pytorch pytorch torchvision"
   ]
  },
  {
   "cell_type": "code",
   "execution_count": 20,
   "id": "c2a0c522-b840-4ff4-bbe3-1a372a358e4e",
   "metadata": {},
   "outputs": [
    {
     "name": "stderr",
     "output_type": "stream",
     "text": [
      "/Users/s3nsei/miniconda3/envs/ml22/lib/python3.9/site-packages/torchvision/io/image.py:13: UserWarning: Failed to load image Python extension: dlopen(/Users/s3nsei/miniconda3/envs/ml22/lib/python3.9/site-packages/torchvision/image.so, 6): Library not loaded: @rpath/libjpeg.9.dylib\n",
      "  Referenced from: /Users/s3nsei/miniconda3/envs/ml22/lib/python3.9/site-packages/torchvision/image.so\n",
      "  Reason: Incompatible library version: image.so requires version 15.0.0 or later, but libjpeg.9.dylib provides version 14.0.0\n",
      "  warn(f\"Failed to load image Python extension: {e}\")\n"
     ]
    }
   ],
   "source": [
    "import torch\n",
    "import torch.nn as nn\n",
    "import torchvision.transforms as transforms\n",
    "import torchvision.datasets as datasets"
   ]
  },
  {
   "cell_type": "code",
   "execution_count": 21,
   "id": "c8378075-a0f6-42f1-a2a0-7ff75de008d1",
   "metadata": {},
   "outputs": [],
   "source": [
    "train_dataset = datasets.MNIST(root=\"./data\",\n",
    "                              train=True,\n",
    "                              transform=transforms.ToTensor(),\n",
    "                              download=True)\n",
    "\n",
    "test_dataset = datasets.MNIST(root=\"./data\",\n",
    "                              train=False,\n",
    "                              transform=transforms.ToTensor())"
   ]
  },
  {
   "cell_type": "code",
   "execution_count": 22,
   "id": "e1c409cd-d9d9-4ac7-b688-f1f487f9789d",
   "metadata": {},
   "outputs": [],
   "source": [
    "class TorchFFN(nn.Module):\n",
    "    def __init__(self, sizes=[784, 128, 64, 12]):\n",
    "        super().__init__()\n",
    "        \n",
    "        fc1 = nn.Linear(sizes[0], sizes[1])\n",
    "        fc2 = nn.Linear(sizes[1], sizes[2])\n",
    "        fc3 = nn.Linear(sizes[2], sizes[3])\n",
    "        self.layers = nn.Sequential(\n",
    "            fc1,\n",
    "            nn.Sigmoid(),\n",
    "            fc2,\n",
    "            nn.Sigmoid(),\n",
    "            fc3\n",
    "        )\n",
    "    \n",
    "    def forward(self, inputs):\n",
    "        return self.layers(inputs)"
   ]
  },
  {
   "cell_type": "code",
   "execution_count": 23,
   "id": "72321783-d8be-49b5-bb27-e536594813d0",
   "metadata": {},
   "outputs": [],
   "source": [
    "model = TorchFFN()\n",
    "epochs, lr = 10, 0.01\n",
    "opt = torch.optim.SGD(model.parameters(), lr=lr)\n",
    "objective = nn.CrossEntropyLoss()\n",
    "train_loader = torch.utils.data.DataLoader(dataset=train_dataset,\n",
    "                                          batch_size=16,\n",
    "                                          shuffle=True)\n",
    "\n",
    "test_loader = torch.utils.data.DataLoader(dataset=test_dataset,\n",
    "                                          batch_size=16,\n",
    "                                          shuffle=False)\n"
   ]
  },
  {
   "cell_type": "code",
   "execution_count": 24,
   "id": "57631f65-f358-4eff-a21d-27a29a3a450b",
   "metadata": {},
   "outputs": [
    {
     "name": "stdout",
     "output_type": "stream",
     "text": [
      "Epoch: 0, Train accuracy: 8.94\n",
      "Epoch: 1, Train accuracy: 27.85\n",
      "Epoch: 2, Train accuracy: 50.80\n",
      "Epoch: 3, Train accuracy: 72.10\n",
      "Epoch: 4, Train accuracy: 79.98\n",
      "Epoch: 5, Train accuracy: 84.06\n",
      "Epoch: 6, Train accuracy: 86.35\n",
      "Epoch: 7, Train accuracy: 87.77\n",
      "Epoch: 8, Train accuracy: 88.80\n",
      "Epoch: 9, Train accuracy: 89.55\n",
      "Test accuracy = 90.10000610351562:.2f\n"
     ]
    }
   ],
   "source": [
    "test_acc = []\n",
    "for epoch in range(epochs):\n",
    "    correct = 0\n",
    "    count = 0\n",
    "    for i, (x, y) in enumerate(train_loader):\n",
    "        x = x.reshape(x.shape[0], -1)\n",
    "        outputs = model(x)\n",
    "        _, predicted = torch.max(outputs.data, 1)\n",
    "        count += y.size(0)\n",
    "        correct += (predicted == y).sum()\n",
    "        \n",
    "    acc = correct / count\n",
    "    print(f\"Epoch: {epoch:d}, Train accuracy: {acc*100:.2f}\")\n",
    "    test_acc.append(acc)\n",
    "    \n",
    "    for i, (x, y) in enumerate(train_loader):\n",
    "        x = x.reshape(x.shape[0], -1)\n",
    "        opt.zero_grad()\n",
    "        output = model(x)\n",
    "        loss = objective(output, y)\n",
    "        loss.backward()\n",
    "        opt.step()\n",
    "        \n",
    "correct = 0\n",
    "count = 0\n",
    "for i, (x, y) in enumerate(test_loader):\n",
    "    x = x.reshape(x.shape[0], -1)\n",
    "    outputs = model(x)\n",
    "    _, predicted = torch.max(outputs.data, 1)\n",
    "    count += y.size(0)\n",
    "    correct += (predicted == y).sum()\n",
    "    \n",
    "acc = correct / count\n",
    "print(f\"Test accuracy = {acc*100:.2f}\")"
   ]
  },
  {
   "cell_type": "markdown",
   "id": "cb03f21d-df3f-4308-bb7a-b9b5c4930a11",
   "metadata": {},
   "source": [
    "### References and Sources\n",
    "\n",
    "- Backpropagation intuition: [https://cs231n.github.io/optimization-2/#grad](https://cs231n.github.io/optimization-2/#grad)\n",
    "\n",
    "- Softmax derivative: [https://eli.thegreenplace.net/2016/the-softmax-function-and-its-derivative/](https://eli.thegreenplace.net/2016/the-softmax-function-and-its-derivative/) and [https://deepnotes.io/softmax-crossentropy](https://deepnotes.io/softmax-crossentropy)\n",
    "\n",
    "- Initialization: [https://adityassrana.github.io/blog/theory/2020/08/26/Weight-Init.html](https://adityassrana.github.io/blog/theory/2020/08/26/Weight-Init.html)\n",
    "\n",
    "- Different loss options: [https://gombru.github.io/2018/05/23/cross_entropy_loss/](https://gombru.github.io/2018/05/23/cross_entropy_loss/)\n",
    "\n",
    "- Code partially based on: [https://mlfromscratch.com/neural-network-tutorial/#/](https://mlfromscratch.com/neural-network-tutorial/#/)"
   ]
  },
  {
   "cell_type": "markdown",
   "id": "1cf8049d-6bd2-470f-95d0-d2eab4de2204",
   "metadata": {},
   "source": [
    "### Credit\n",
    "This notebook was created by UdS ML21 tutors and modified by ML22 team. Thanks to Jonas Klesen and team."
   ]
  }
 ],
 "metadata": {
  "kernelspec": {
   "display_name": "Python 3 (ipykernel)",
   "language": "python",
   "name": "python3"
  },
  "language_info": {
   "codemirror_mode": {
    "name": "ipython",
    "version": 3
   },
   "file_extension": ".py",
   "mimetype": "text/x-python",
   "name": "python",
   "nbconvert_exporter": "python",
   "pygments_lexer": "ipython3",
   "version": "3.9.12"
  }
 },
 "nbformat": 4,
 "nbformat_minor": 5
}
